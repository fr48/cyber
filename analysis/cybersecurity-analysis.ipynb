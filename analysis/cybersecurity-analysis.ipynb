{
 "cells": [
  {
   "cell_type": "markdown",
   "metadata": {},
   "source": [
    "# Americans' View of Cybersecurity\n",
    "\n",
    "American consumers don't trust the organizations--government or companies--to keep information about them safe, and they also think that data collection is inevitable. However, there is some contradiction. Not only do Americans not trust government and companies to protect their data online from thieves, but they don't do a very good job with protecting their data, either.\n",
    "\n",
    "1. Most Americans have been affected by a data breach, and the type of incidents they have been affected by.\n",
    "\n",
    "2. Perception of what they trust, or don't trust.\n",
    "\n",
    "3. Common security measures they should be using/not using (passwords, device lock, etc)\n",
    "\n",
    "4. Do consumers punish companies after a breach (measured by stock price). Could be small multiples?\n",
    "\n",
    "I looked at how Americans handle their own data protection by analyzing the dataset that was published by Pew Research on how well people know about online security and whether or not they actually do those things. The analysis compares different groups and what their security habits were."
   ]
  },
  {
   "cell_type": "code",
   "execution_count": 92,
   "metadata": {},
   "outputs": [],
   "source": [
    "#import statements\n",
    "import pandas as pd\n",
    "import re\n",
    "import numpy as np\n",
    "from scipy.stats import ttest_ind\n",
    "import matplotlib.pyplot as plt\n",
    "import seaborn as sns"
   ]
  },
  {
   "cell_type": "code",
   "execution_count": 93,
   "metadata": {},
   "outputs": [],
   "source": [
    "#open survey data files\n",
    "march = pd.read_csv(\"data/personalsecurity.csv\")"
   ]
  },
  {
   "cell_type": "code",
   "execution_count": 94,
   "metadata": {
    "scrolled": true
   },
   "outputs": [
    {
     "data": {
      "text/plain": [
       "array(['psraid', 'sample', 'int_date', 'lang', 'version', 'form',\n",
       "       'llitext1', 'q1', 'eminuse', 'intmob', 'intfreq', 'device1a',\n",
       "       'smart1', 'snsint2', 'acct1a', 'acct1b', 'acct1c', 'acct1d',\n",
       "       'acct2', 'acct3a', 'acct3b', 'acct3c', 'acct3d', 'acct3e',\n",
       "       'acct3f', 'acct3g', 'secur1', 'secur2a', 'secur2b', 'secur2c',\n",
       "       'secur2d', 'secur2e', 'secur2f', 'secur2g', 'habits1a', 'habits1b',\n",
       "       'habits1c', 'habits1d', 'habits1e', 'habits1f', 'habits2',\n",
       "       'habits3', 'habits4a', 'habits4b', 'habits4c', 'habits5',\n",
       "       'habits6', 'habits7', 'habits8', 'habits9', 'habits10', 'habits11',\n",
       "       'habits12', 'wifi1', 'wifi2a', 'wifi2b', 'wifi2c', 'wifi2d',\n",
       "       'policy1', 'policy2a', 'policy2b', 'policy3', 'policy4', 'policy5',\n",
       "       'policy6a', 'policy6b', 'policy6c', 'policy6d', 'policy6e', 'sex',\n",
       "       'age', 'educ2', 'hisp', 'race3m1', 'race3m2', 'race3m3', 'race3m4',\n",
       "       'birth_hisp', 'marital', 'par', 'emplnw3', 'party', 'partyln',\n",
       "       'ideo', 'inc', 'hh1', 'hh3', 'ql1a', 'qc1', 'habits1fos',\n",
       "       'habits9os', 'raceos', 'usr', 'cregion', 'state', 'density',\n",
       "       'race3m1orig', 'race3m2orig', 'race3m3orig', 'race3m4orig',\n",
       "       'origraceos', 'i_usernw2', 'SmartPhone', 'racecmb', 'racethn',\n",
       "       'racethn2', 'racethn3', 'hhcell', 'genage2016', 'child',\n",
       "       'partysum', 'partyideo', 'habits1cnt', 'iphoneuse', 'hphoneuse',\n",
       "       'recage', 'receduc', 'adults', 'll', 'cp', 'weight', 'standwt'],\n",
       "      dtype=object)"
      ]
     },
     "execution_count": 94,
     "metadata": {},
     "output_type": "execute_result"
    }
   ],
   "source": [
    "#march.head()\n",
    "march.columns.values"
   ]
  },
  {
   "cell_type": "code",
   "execution_count": 95,
   "metadata": {},
   "outputs": [],
   "source": [
    "# file:///home/fyr/Downloads/Americans-and-Cybersecurity-topline.pdf\n",
    "\n",
    "# Have you ever...[been hacked]?\n",
    "march = march.rename(columns={\"secur2a\": \"ssn\", \n",
    "                   \"secur2b\": \"pii\",\n",
    "                   'secur2c': \"fraud\",\n",
    "                   'secur2d':\"email\", \n",
    "                   'secur2e':\"socmedia\", \n",
    "                   'secur2f':\"idtheft\", \n",
    "                   'secur2g':\"tax\"\n",
    "                  })\n",
    "\n",
    "#just hacks\n",
    "compromised = march[['ssn', 'pii', 'fraud', 'email', 'socmedia','idtheft','tax']]\n",
    "\n",
    "# 2 is no 1 is yes 8 is don't know 9 is refused to answer"
   ]
  },
  {
   "cell_type": "markdown",
   "metadata": {},
   "source": [
    "file:///home/fyr/Downloads/Americans-and-Cybersecurity-topline.pdf"
   ]
  },
  {
   "cell_type": "code",
   "execution_count": 98,
   "metadata": {},
   "outputs": [
    {
     "data": {
      "text/plain": [
       "ssn          int64\n",
       "pii          int64\n",
       "fraud        int64\n",
       "email       object\n",
       "socmedia    object\n",
       "idtheft      int64\n",
       "tax          int64\n",
       "dtype: object"
      ]
     },
     "execution_count": 98,
     "metadata": {},
     "output_type": "execute_result"
    }
   ],
   "source": [
    "compromised.dtypes"
   ]
  },
  {
   "cell_type": "code",
   "execution_count": 97,
   "metadata": {},
   "outputs": [
    {
     "data": {
      "text/plain": [
       "array([' ', '2', '1', '8', '9'], dtype=object)"
      ]
     },
     "execution_count": 97,
     "metadata": {},
     "output_type": "execute_result"
    }
   ],
   "source": [
    "#compromised.ssn.unique()\n",
    "#compromised.pii.unique()\n",
    "#compromised.fraud.unique()\n",
    "#compromised.email.unique()\n",
    "compromised.socmedia.unique()\n",
    "#compromised.idtheft.unique()\n",
    "#compromised.tax.unique()"
   ]
  },
  {
   "cell_type": "code",
   "execution_count": 99,
   "metadata": {},
   "outputs": [
    {
     "data": {
      "text/plain": [
       "2    539\n",
       "     375\n",
       "1    123\n",
       "8      2\n",
       "9      1\n",
       "Name: socmedia, dtype: int64"
      ]
     },
     "execution_count": 99,
     "metadata": {},
     "output_type": "execute_result"
    }
   ],
   "source": [
    "#compromised.email.value_counts()\n",
    "compromised.socmedia.value_counts()"
   ]
  },
  {
   "cell_type": "code",
   "execution_count": 100,
   "metadata": {},
   "outputs": [
    {
     "data": {
      "text/html": [
       "<div>\n",
       "<style scoped>\n",
       "    .dataframe tbody tr th:only-of-type {\n",
       "        vertical-align: middle;\n",
       "    }\n",
       "\n",
       "    .dataframe tbody tr th {\n",
       "        vertical-align: top;\n",
       "    }\n",
       "\n",
       "    .dataframe thead th {\n",
       "        text-align: right;\n",
       "    }\n",
       "</style>\n",
       "<table border=\"1\" class=\"dataframe\">\n",
       "  <thead>\n",
       "    <tr style=\"text-align: right;\">\n",
       "      <th></th>\n",
       "      <th>ssn</th>\n",
       "      <th>pii</th>\n",
       "      <th>fraud</th>\n",
       "      <th>email</th>\n",
       "      <th>socmedia</th>\n",
       "      <th>idtheft</th>\n",
       "      <th>tax</th>\n",
       "    </tr>\n",
       "  </thead>\n",
       "  <tbody>\n",
       "    <tr>\n",
       "      <td>0</td>\n",
       "      <td>2</td>\n",
       "      <td>1</td>\n",
       "      <td>1</td>\n",
       "      <td>1</td>\n",
       "      <td>9</td>\n",
       "      <td>2</td>\n",
       "      <td>2</td>\n",
       "    </tr>\n",
       "    <tr>\n",
       "      <td>1</td>\n",
       "      <td>1</td>\n",
       "      <td>2</td>\n",
       "      <td>2</td>\n",
       "      <td>2</td>\n",
       "      <td>2</td>\n",
       "      <td>2</td>\n",
       "      <td>2</td>\n",
       "    </tr>\n",
       "    <tr>\n",
       "      <td>2</td>\n",
       "      <td>1</td>\n",
       "      <td>2</td>\n",
       "      <td>2</td>\n",
       "      <td>2</td>\n",
       "      <td>2</td>\n",
       "      <td>2</td>\n",
       "      <td>2</td>\n",
       "    </tr>\n",
       "    <tr>\n",
       "      <td>3</td>\n",
       "      <td>2</td>\n",
       "      <td>2</td>\n",
       "      <td>2</td>\n",
       "      <td>2</td>\n",
       "      <td>2</td>\n",
       "      <td>2</td>\n",
       "      <td>2</td>\n",
       "    </tr>\n",
       "    <tr>\n",
       "      <td>4</td>\n",
       "      <td>2</td>\n",
       "      <td>2</td>\n",
       "      <td>1</td>\n",
       "      <td>1</td>\n",
       "      <td>9</td>\n",
       "      <td>2</td>\n",
       "      <td>2</td>\n",
       "    </tr>\n",
       "    <tr>\n",
       "      <td>...</td>\n",
       "      <td>...</td>\n",
       "      <td>...</td>\n",
       "      <td>...</td>\n",
       "      <td>...</td>\n",
       "      <td>...</td>\n",
       "      <td>...</td>\n",
       "      <td>...</td>\n",
       "    </tr>\n",
       "    <tr>\n",
       "      <td>1035</td>\n",
       "      <td>1</td>\n",
       "      <td>1</td>\n",
       "      <td>2</td>\n",
       "      <td>2</td>\n",
       "      <td>2</td>\n",
       "      <td>1</td>\n",
       "      <td>2</td>\n",
       "    </tr>\n",
       "    <tr>\n",
       "      <td>1036</td>\n",
       "      <td>2</td>\n",
       "      <td>2</td>\n",
       "      <td>2</td>\n",
       "      <td>2</td>\n",
       "      <td>2</td>\n",
       "      <td>2</td>\n",
       "      <td>2</td>\n",
       "    </tr>\n",
       "    <tr>\n",
       "      <td>1037</td>\n",
       "      <td>2</td>\n",
       "      <td>1</td>\n",
       "      <td>1</td>\n",
       "      <td>2</td>\n",
       "      <td>2</td>\n",
       "      <td>2</td>\n",
       "      <td>2</td>\n",
       "    </tr>\n",
       "    <tr>\n",
       "      <td>1038</td>\n",
       "      <td>2</td>\n",
       "      <td>2</td>\n",
       "      <td>1</td>\n",
       "      <td>9</td>\n",
       "      <td>9</td>\n",
       "      <td>2</td>\n",
       "      <td>2</td>\n",
       "    </tr>\n",
       "    <tr>\n",
       "      <td>1039</td>\n",
       "      <td>2</td>\n",
       "      <td>2</td>\n",
       "      <td>2</td>\n",
       "      <td>2</td>\n",
       "      <td>2</td>\n",
       "      <td>2</td>\n",
       "      <td>2</td>\n",
       "    </tr>\n",
       "  </tbody>\n",
       "</table>\n",
       "<p>1040 rows × 7 columns</p>\n",
       "</div>"
      ],
      "text/plain": [
       "      ssn  pii  fraud  email  socmedia  idtheft  tax\n",
       "0       2    1      1      1         9        2    2\n",
       "1       1    2      2      2         2        2    2\n",
       "2       1    2      2      2         2        2    2\n",
       "3       2    2      2      2         2        2    2\n",
       "4       2    2      1      1         9        2    2\n",
       "...   ...  ...    ...    ...       ...      ...  ...\n",
       "1035    1    1      2      2         2        1    2\n",
       "1036    2    2      2      2         2        2    2\n",
       "1037    2    1      1      2         2        2    2\n",
       "1038    2    2      1      9         9        2    2\n",
       "1039    2    2      2      2         2        2    2\n",
       "\n",
       "[1040 rows x 7 columns]"
      ]
     },
     "execution_count": 100,
     "metadata": {},
     "output_type": "execute_result"
    }
   ],
   "source": [
    "#clean up data\n",
    "compromised = compromised.replace(r'^\\s*$', '9', regex=True)\n",
    "compromised['email']=compromised.email.astype('int')\n",
    "compromised['socmedia']=compromised.socmedia.astype('int')\n",
    "compromised"
   ]
  },
  {
   "cell_type": "code",
   "execution_count": 107,
   "metadata": {},
   "outputs": [
    {
     "data": {
      "text/plain": [
       "array([0, 1, 8])"
      ]
     },
     "execution_count": 107,
     "metadata": {},
     "output_type": "execute_result"
    }
   ],
   "source": [
    "#recode to 0=no and 1=yes instead of 1=yes and 2=no\n",
    "compromised.loc[compromised['ssn'] ==2, 'ssn'] = 0\n",
    "compromised.loc[compromised['pii'] ==2, 'pii'] = 0\n",
    "compromised.loc[compromised['fraud'] ==2, 'fraud'] = 0\n",
    "compromised.loc[compromised['email'] ==2, 'email'] = 0\n",
    "compromised.loc[compromised['socmedia'] ==2, 'socmedia'] = 0\n",
    "compromised.loc[compromised['idtheft'] ==2, 'idtheft'] = 0\n",
    "compromised.loc[compromised['tax'] ==2, 'tax'] = 0\n",
    "\n",
    "compromised.ssn.unique()"
   ]
  },
  {
   "cell_type": "code",
   "execution_count": 124,
   "metadata": {},
   "outputs": [
    {
     "data": {
      "text/html": [
       "<div>\n",
       "<style scoped>\n",
       "    .dataframe tbody tr th:only-of-type {\n",
       "        vertical-align: middle;\n",
       "    }\n",
       "\n",
       "    .dataframe tbody tr th {\n",
       "        vertical-align: top;\n",
       "    }\n",
       "\n",
       "    .dataframe thead th {\n",
       "        text-align: right;\n",
       "    }\n",
       "</style>\n",
       "<table border=\"1\" class=\"dataframe\">\n",
       "  <thead>\n",
       "    <tr style=\"text-align: right;\">\n",
       "      <th></th>\n",
       "      <th>no</th>\n",
       "      <th>yes</th>\n",
       "    </tr>\n",
       "  </thead>\n",
       "  <tbody>\n",
       "    <tr>\n",
       "      <td>ssn</td>\n",
       "      <td>867.0</td>\n",
       "      <td>167.0</td>\n",
       "    </tr>\n",
       "    <tr>\n",
       "      <td>pii</td>\n",
       "      <td>628.0</td>\n",
       "      <td>402.0</td>\n",
       "    </tr>\n",
       "    <tr>\n",
       "      <td>fraud</td>\n",
       "      <td>561.0</td>\n",
       "      <td>475.0</td>\n",
       "    </tr>\n",
       "    <tr>\n",
       "      <td>email</td>\n",
       "      <td>741.0</td>\n",
       "      <td>175.0</td>\n",
       "    </tr>\n",
       "    <tr>\n",
       "      <td>socmedia</td>\n",
       "      <td>539.0</td>\n",
       "      <td>123.0</td>\n",
       "    </tr>\n",
       "    <tr>\n",
       "      <td>idtheft</td>\n",
       "      <td>871.0</td>\n",
       "      <td>153.0</td>\n",
       "    </tr>\n",
       "    <tr>\n",
       "      <td>tax</td>\n",
       "      <td>970.0</td>\n",
       "      <td>57.0</td>\n",
       "    </tr>\n",
       "  </tbody>\n",
       "</table>\n",
       "</div>"
      ],
      "text/plain": [
       "             no    yes\n",
       "ssn       867.0  167.0\n",
       "pii       628.0  402.0\n",
       "fraud     561.0  475.0\n",
       "email     741.0  175.0\n",
       "socmedia  539.0  123.0\n",
       "idtheft   871.0  153.0\n",
       "tax       970.0   57.0"
      ]
     },
     "execution_count": 124,
     "metadata": {},
     "output_type": "execute_result"
    }
   ],
   "source": [
    "compromise = compromised.apply(pd.Series.value_counts)\n",
    "compromise = compromise.transpose()\n",
    "compromise = compromise[[0,1]]\n",
    "compromise = compromise.rename(columns={0: \"no\", 1: \"yes\"})\n",
    "compromise"
   ]
  },
  {
   "cell_type": "code",
   "execution_count": 126,
   "metadata": {},
   "outputs": [
    {
     "data": {
      "text/plain": [
       "<matplotlib.axes._subplots.AxesSubplot at 0x7f43c0118a90>"
      ]
     },
     "execution_count": 126,
     "metadata": {},
     "output_type": "execute_result"
    },
    {
     "data": {
      "image/png": "[encoded data removed]",
      "text/plain": [
       "<Figure size 432x288 with 1 Axes>"
      ]
     },
     "metadata": {
      "needs_background": "light"
     },
     "output_type": "display_data"
    }
   ],
   "source": [
    "compromise.plot.barh()"
   ]
  },
  {
   "cell_type": "markdown",
   "metadata": {},
   "source": [
    "#####\n",
    "# need to do the rest of this file"
   ]
  },
  {
   "cell_type": "code",
   "execution_count": 141,
   "metadata": {},
   "outputs": [
    {
     "data": {
      "text/html": [
       "<div>\n",
       "<style scoped>\n",
       "    .dataframe tbody tr th:only-of-type {\n",
       "        vertical-align: middle;\n",
       "    }\n",
       "\n",
       "    .dataframe tbody tr th {\n",
       "        vertical-align: top;\n",
       "    }\n",
       "\n",
       "    .dataframe thead th {\n",
       "        text-align: right;\n",
       "    }\n",
       "</style>\n",
       "<table border=\"1\" class=\"dataframe\">\n",
       "  <thead>\n",
       "    <tr style=\"text-align: right;\">\n",
       "      <th></th>\n",
       "      <th>memorize</th>\n",
       "      <th>paper</th>\n",
       "      <th>manager</th>\n",
       "      <th>doc</th>\n",
       "      <th>browser</th>\n",
       "      <th>other</th>\n",
       "    </tr>\n",
       "  </thead>\n",
       "  <tbody>\n",
       "    <tr>\n",
       "      <td>0</td>\n",
       "      <td>1</td>\n",
       "      <td>1</td>\n",
       "      <td>2</td>\n",
       "      <td>2</td>\n",
       "      <td>2</td>\n",
       "      <td>2</td>\n",
       "    </tr>\n",
       "    <tr>\n",
       "      <td>1</td>\n",
       "      <td>2</td>\n",
       "      <td>1</td>\n",
       "      <td>2</td>\n",
       "      <td>2</td>\n",
       "      <td>2</td>\n",
       "      <td>2</td>\n",
       "    </tr>\n",
       "    <tr>\n",
       "      <td>2</td>\n",
       "      <td>1</td>\n",
       "      <td>2</td>\n",
       "      <td>2</td>\n",
       "      <td>2</td>\n",
       "      <td>2</td>\n",
       "      <td>2</td>\n",
       "    </tr>\n",
       "    <tr>\n",
       "      <td>3</td>\n",
       "      <td>1</td>\n",
       "      <td>1</td>\n",
       "      <td>2</td>\n",
       "      <td>2</td>\n",
       "      <td>2</td>\n",
       "      <td>2</td>\n",
       "    </tr>\n",
       "    <tr>\n",
       "      <td>4</td>\n",
       "      <td>1</td>\n",
       "      <td>2</td>\n",
       "      <td>2</td>\n",
       "      <td>2</td>\n",
       "      <td>2</td>\n",
       "      <td>2</td>\n",
       "    </tr>\n",
       "    <tr>\n",
       "      <td>...</td>\n",
       "      <td>...</td>\n",
       "      <td>...</td>\n",
       "      <td>...</td>\n",
       "      <td>...</td>\n",
       "      <td>...</td>\n",
       "      <td>...</td>\n",
       "    </tr>\n",
       "    <tr>\n",
       "      <td>1035</td>\n",
       "      <td>2</td>\n",
       "      <td>1</td>\n",
       "      <td>2</td>\n",
       "      <td>2</td>\n",
       "      <td>2</td>\n",
       "      <td>2</td>\n",
       "    </tr>\n",
       "    <tr>\n",
       "      <td>1036</td>\n",
       "      <td>1</td>\n",
       "      <td>1</td>\n",
       "      <td>2</td>\n",
       "      <td>2</td>\n",
       "      <td>1</td>\n",
       "      <td>2</td>\n",
       "    </tr>\n",
       "    <tr>\n",
       "      <td>1037</td>\n",
       "      <td>2</td>\n",
       "      <td>1</td>\n",
       "      <td>2</td>\n",
       "      <td>2</td>\n",
       "      <td>2</td>\n",
       "      <td>2</td>\n",
       "    </tr>\n",
       "    <tr>\n",
       "      <td>1038</td>\n",
       "      <td></td>\n",
       "      <td></td>\n",
       "      <td></td>\n",
       "      <td></td>\n",
       "      <td></td>\n",
       "      <td></td>\n",
       "    </tr>\n",
       "    <tr>\n",
       "      <td>1039</td>\n",
       "      <td>1</td>\n",
       "      <td>1</td>\n",
       "      <td>2</td>\n",
       "      <td>2</td>\n",
       "      <td>2</td>\n",
       "      <td>2</td>\n",
       "    </tr>\n",
       "  </tbody>\n",
       "</table>\n",
       "<p>1040 rows × 6 columns</p>\n",
       "</div>"
      ],
      "text/plain": [
       "     memorize paper manager doc browser other\n",
       "0           1     1       2   2       2     2\n",
       "1           2     1       2   2       2     2\n",
       "2           1     2       2   2       2     2\n",
       "3           1     1       2   2       2     2\n",
       "4           1     2       2   2       2     2\n",
       "...       ...   ...     ...  ..     ...   ...\n",
       "1035        2     1       2   2       2     2\n",
       "1036        1     1       2   2       1     2\n",
       "1037        2     1       2   2       2     2\n",
       "1038                                         \n",
       "1039        1     1       2   2       2     2\n",
       "\n",
       "[1040 rows x 6 columns]"
      ]
     },
     "execution_count": 141,
     "metadata": {},
     "output_type": "execute_result"
    }
   ],
   "source": [
    "#habits\n",
    "\n",
    "#'habits2','habits3' #'habits4a', 'habits4b', 'habits4c', \n",
    "#'habits5','habits6', 'habits7', 'habits8', 'habits9', 'habits10', 'habits11', 'habits12'\n",
    "\n",
    "march = march.rename(columns={\"habits1a\": \"memorize\", \n",
    "                   \"habits1b\": \"paper\",\n",
    "                   'habits1c': \"manager\",\n",
    "                   'habits1d':\"doc\", \n",
    "                   'habits1e':\"browser\", \n",
    "                   'habits1f':\"other\", \n",
    "                              'habits2':'methods'\n",
    "                  })\n",
    "habits = march[['memorize','paper','manager','doc','browser','other']]\n",
    "habits"
   ]
  },
  {
   "cell_type": "code",
   "execution_count": 135,
   "metadata": {},
   "outputs": [
    {
     "data": {
      "text/plain": [
       "memorize    object\n",
       "paper       object\n",
       "manager     object\n",
       "doc         object\n",
       "browser     object\n",
       "other       object\n",
       "dtype: object"
      ]
     },
     "execution_count": 135,
     "metadata": {},
     "output_type": "execute_result"
    }
   ],
   "source": [
    "habits.dtypes"
   ]
  },
  {
   "cell_type": "code",
   "execution_count": 136,
   "metadata": {},
   "outputs": [
    {
     "data": {
      "text/html": [
       "<div>\n",
       "<style scoped>\n",
       "    .dataframe tbody tr th:only-of-type {\n",
       "        vertical-align: middle;\n",
       "    }\n",
       "\n",
       "    .dataframe tbody tr th {\n",
       "        vertical-align: top;\n",
       "    }\n",
       "\n",
       "    .dataframe thead th {\n",
       "        text-align: right;\n",
       "    }\n",
       "</style>\n",
       "<table border=\"1\" class=\"dataframe\">\n",
       "  <thead>\n",
       "    <tr style=\"text-align: right;\">\n",
       "      <th></th>\n",
       "      <th>memorize</th>\n",
       "      <th>paper</th>\n",
       "      <th>manager</th>\n",
       "      <th>doc</th>\n",
       "      <th>browser</th>\n",
       "      <th>other</th>\n",
       "    </tr>\n",
       "  </thead>\n",
       "  <tbody>\n",
       "    <tr>\n",
       "      <td>0</td>\n",
       "      <td>1</td>\n",
       "      <td>1</td>\n",
       "      <td>2</td>\n",
       "      <td>2</td>\n",
       "      <td>2</td>\n",
       "      <td>2</td>\n",
       "    </tr>\n",
       "    <tr>\n",
       "      <td>1</td>\n",
       "      <td>2</td>\n",
       "      <td>1</td>\n",
       "      <td>2</td>\n",
       "      <td>2</td>\n",
       "      <td>2</td>\n",
       "      <td>2</td>\n",
       "    </tr>\n",
       "    <tr>\n",
       "      <td>2</td>\n",
       "      <td>1</td>\n",
       "      <td>2</td>\n",
       "      <td>2</td>\n",
       "      <td>2</td>\n",
       "      <td>2</td>\n",
       "      <td>2</td>\n",
       "    </tr>\n",
       "    <tr>\n",
       "      <td>3</td>\n",
       "      <td>1</td>\n",
       "      <td>1</td>\n",
       "      <td>2</td>\n",
       "      <td>2</td>\n",
       "      <td>2</td>\n",
       "      <td>2</td>\n",
       "    </tr>\n",
       "    <tr>\n",
       "      <td>4</td>\n",
       "      <td>1</td>\n",
       "      <td>2</td>\n",
       "      <td>2</td>\n",
       "      <td>2</td>\n",
       "      <td>2</td>\n",
       "      <td>2</td>\n",
       "    </tr>\n",
       "    <tr>\n",
       "      <td>...</td>\n",
       "      <td>...</td>\n",
       "      <td>...</td>\n",
       "      <td>...</td>\n",
       "      <td>...</td>\n",
       "      <td>...</td>\n",
       "      <td>...</td>\n",
       "    </tr>\n",
       "    <tr>\n",
       "      <td>1035</td>\n",
       "      <td>2</td>\n",
       "      <td>1</td>\n",
       "      <td>2</td>\n",
       "      <td>2</td>\n",
       "      <td>2</td>\n",
       "      <td>2</td>\n",
       "    </tr>\n",
       "    <tr>\n",
       "      <td>1036</td>\n",
       "      <td>1</td>\n",
       "      <td>1</td>\n",
       "      <td>2</td>\n",
       "      <td>2</td>\n",
       "      <td>1</td>\n",
       "      <td>2</td>\n",
       "    </tr>\n",
       "    <tr>\n",
       "      <td>1037</td>\n",
       "      <td>2</td>\n",
       "      <td>1</td>\n",
       "      <td>2</td>\n",
       "      <td>2</td>\n",
       "      <td>2</td>\n",
       "      <td>2</td>\n",
       "    </tr>\n",
       "    <tr>\n",
       "      <td>1038</td>\n",
       "      <td>9</td>\n",
       "      <td>9</td>\n",
       "      <td>9</td>\n",
       "      <td>9</td>\n",
       "      <td>9</td>\n",
       "      <td>9</td>\n",
       "    </tr>\n",
       "    <tr>\n",
       "      <td>1039</td>\n",
       "      <td>1</td>\n",
       "      <td>1</td>\n",
       "      <td>2</td>\n",
       "      <td>2</td>\n",
       "      <td>2</td>\n",
       "      <td>2</td>\n",
       "    </tr>\n",
       "  </tbody>\n",
       "</table>\n",
       "<p>1040 rows × 6 columns</p>\n",
       "</div>"
      ],
      "text/plain": [
       "      memorize  paper  manager  doc  browser  other\n",
       "0            1      1        2    2        2      2\n",
       "1            2      1        2    2        2      2\n",
       "2            1      2        2    2        2      2\n",
       "3            1      1        2    2        2      2\n",
       "4            1      2        2    2        2      2\n",
       "...        ...    ...      ...  ...      ...    ...\n",
       "1035         2      1        2    2        2      2\n",
       "1036         1      1        2    2        1      2\n",
       "1037         2      1        2    2        2      2\n",
       "1038         9      9        9    9        9      9\n",
       "1039         1      1        2    2        2      2\n",
       "\n",
       "[1040 rows x 6 columns]"
      ]
     },
     "execution_count": 136,
     "metadata": {},
     "output_type": "execute_result"
    }
   ],
   "source": [
    "#clean up data\n",
    "habits = habits.replace(r'^\\s*$', '9', regex=True)\n",
    "habits['memorize']=habits.memorize.astype('int')\n",
    "habits['paper']=habits.paper.astype('int')\n",
    "habits['manager']=habits.manager.astype('int')\n",
    "habits['doc']=habits.doc.astype('int')\n",
    "habits['browser']=habits.browser.astype('int')\n",
    "habits['other']=habits.other.astype('int')\n",
    "habits"
   ]
  },
  {
   "cell_type": "code",
   "execution_count": 138,
   "metadata": {},
   "outputs": [
    {
     "data": {
      "text/plain": [
       "array([1, 0, 9, 8])"
      ]
     },
     "execution_count": 138,
     "metadata": {},
     "output_type": "execute_result"
    }
   ],
   "source": [
    "#recode to 0=no and 1=yes instead of 1=yes and 2=no\n",
    "habits.loc[habits['memorize'] ==2, 'memorize'] = 0\n",
    "habits.loc[habits['paper'] ==2, 'paper'] = 0\n",
    "habits.loc[habits['manager'] ==2, 'manager'] = 0\n",
    "habits.loc[habits['doc'] ==2, 'doc'] = 0\n",
    "habits.loc[habits['browser'] ==2, 'browser'] = 0\n",
    "habits.loc[habits['other'] ==2, 'other'] = 0\n",
    "\n",
    "habits.memorize.unique()"
   ]
  },
  {
   "cell_type": "code",
   "execution_count": 139,
   "metadata": {},
   "outputs": [
    {
     "data": {
      "text/html": [
       "<div>\n",
       "<style scoped>\n",
       "    .dataframe tbody tr th:only-of-type {\n",
       "        vertical-align: middle;\n",
       "    }\n",
       "\n",
       "    .dataframe tbody tr th {\n",
       "        vertical-align: top;\n",
       "    }\n",
       "\n",
       "    .dataframe thead th {\n",
       "        text-align: right;\n",
       "    }\n",
       "</style>\n",
       "<table border=\"1\" class=\"dataframe\">\n",
       "  <thead>\n",
       "    <tr style=\"text-align: right;\">\n",
       "      <th></th>\n",
       "      <th>no</th>\n",
       "      <th>yes</th>\n",
       "    </tr>\n",
       "  </thead>\n",
       "  <tbody>\n",
       "    <tr>\n",
       "      <td>memorize</td>\n",
       "      <td>148</td>\n",
       "      <td>776</td>\n",
       "    </tr>\n",
       "    <tr>\n",
       "      <td>paper</td>\n",
       "      <td>442</td>\n",
       "      <td>481</td>\n",
       "    </tr>\n",
       "    <tr>\n",
       "      <td>manager</td>\n",
       "      <td>806</td>\n",
       "      <td>112</td>\n",
       "    </tr>\n",
       "    <tr>\n",
       "      <td>doc</td>\n",
       "      <td>707</td>\n",
       "      <td>215</td>\n",
       "    </tr>\n",
       "    <tr>\n",
       "      <td>browser</td>\n",
       "      <td>758</td>\n",
       "      <td>163</td>\n",
       "    </tr>\n",
       "    <tr>\n",
       "      <td>other</td>\n",
       "      <td>876</td>\n",
       "      <td>30</td>\n",
       "    </tr>\n",
       "  </tbody>\n",
       "</table>\n",
       "</div>"
      ],
      "text/plain": [
       "           no  yes\n",
       "memorize  148  776\n",
       "paper     442  481\n",
       "manager   806  112\n",
       "doc       707  215\n",
       "browser   758  163\n",
       "other     876   30"
      ]
     },
     "execution_count": 139,
     "metadata": {},
     "output_type": "execute_result"
    }
   ],
   "source": [
    "habits = habits.apply(pd.Series.value_counts)\n",
    "habits = habits.transpose()\n",
    "habits = habits[[0,1]]\n",
    "habits = habits.rename(columns={0: \"no\", 1: \"yes\"})\n",
    "habits"
   ]
  },
  {
   "cell_type": "code",
   "execution_count": 140,
   "metadata": {},
   "outputs": [
    {
     "data": {
      "text/plain": [
       "<matplotlib.axes._subplots.AxesSubplot at 0x7f43c00bacc0>"
      ]
     },
     "execution_count": 140,
     "metadata": {},
     "output_type": "execute_result"
    },
    {
     "data": {
      "image/png": "[encoded data removed]",
      "text/plain": [
       "<Figure size 432x288 with 1 Axes>"
      ]
     },
     "metadata": {
      "needs_background": "light"
     },
     "output_type": "display_data"
    }
   ],
   "source": [
    "habits.plot.barh()"
   ]
  },
  {
   "cell_type": "code",
   "execution_count": 165,
   "metadata": {},
   "outputs": [
    {
     "data": {
      "text/plain": [
       "Index([' ', 'memorize', 'paper', 'doc', 'manager', 'browser', 'unknown',\n",
       "       'other', 'none'],\n",
       "      dtype='object')"
      ]
     },
     "execution_count": 165,
     "metadata": {},
     "output_type": "execute_result"
    }
   ],
   "source": [
    "methods = march.methods.value_counts()\n",
    "methods=pd.DataFrame(methods)\n",
    "methods = methods.rename(index={'1': \"memorize\", '2': \"paper\", '4': \"doc\", '3': \"manager\", '5': \"browser\", '8': \"unknown\", '6': \"other\", '9': \"none\"})\n"
   ]
  },
  {
   "cell_type": "code",
   "execution_count": 162,
   "metadata": {},
   "outputs": [
    {
     "data": {
      "text/plain": [
       "<matplotlib.axes._subplots.AxesSubplot at 0x7f43bfcd4e80>"
      ]
     },
     "execution_count": 162,
     "metadata": {},
     "output_type": "execute_result"
    },
    {
     "data": {
      "image/png": "[encoded data removed]",
      "text/plain": [
       "<Figure size 432x288 with 1 Axes>"
      ]
     },
     "metadata": {
      "needs_background": "light"
     },
     "output_type": "display_data"
    }
   ],
   "source": [
    "methods.plot.barh()"
   ]
  },
  {
   "cell_type": "code",
   "execution_count": null,
   "metadata": {},
   "outputs": [],
   "source": [
    "pd.DataFrame"
   ]
  },
  {
   "cell_type": "code",
   "execution_count": null,
   "metadata": {},
   "outputs": [],
   "source": []
  },
  {
   "cell_type": "code",
   "execution_count": null,
   "metadata": {},
   "outputs": [],
   "source": [
    "#scores by gender\n",
    "plt.style.use('seaborn-deep')\n",
    "bins = np.linspace(0,100)\n",
    "plt.hist([men.to_numpy(), women.to_numpy()], bins, label=['men', 'women'])\n",
    "plt.legend(loc='upper right')\n",
    "plt.show()"
   ]
  },
  {
   "cell_type": "code",
   "execution_count": null,
   "metadata": {},
   "outputs": [],
   "source": [
    "#different way to chart\n",
    "sns.distplot(women['score'], kde=False, bins=13,  label='women')\n",
    "sns.distplot(men['score'],  kde=False, bins=13, label='men')\n",
    "plt.legend(prop={'size': 12})\n",
    "plt.title('Scores by Gender')\n",
    "plt.xlabel('Quiz Scores')\n",
    "plt.xlim(0,100)\n",
    "plt.ylabel('Frequency')"
   ]
  },
  {
   "cell_type": "code",
   "execution_count": null,
   "metadata": {},
   "outputs": [],
   "source": [
    "#income\n",
    "#1) Less than $5,000\t39\t2.6\n",
    "#2) $5,000 to $7,499\t21\t1.4\n",
    "#3) $7,500 to $9,999\t17\t1.1\n",
    "#4) $10,000 to $12,499\t47\t3.1\n",
    "#5) $12,500 to $14,999\t39\t2.6\n",
    "#6) $15,000 to $19,999\t62\t4.1\n",
    "#7) $20,000 to $24,999\t71\t4.7\n",
    "#8) $25,000 to $29,999\t64\t4.2\n",
    "#9) $30,000 to $34,999\t83\t5.5\n",
    "#10) $35,000 to $39,999\t86\t5.7\n",
    "#11) $40,000 to $49,999\t118\t7.8\n",
    "#12) $50,000 to $59,999\t152\t10\n",
    "#13) $60,000 to $74,999\t137\t9\n",
    "#14) $75,000 to $84,999\t112\t7.4\n",
    "#15) $85,000 to $99,999\t114\t7.5\n",
    "#16) $100,000 to $124,999\t163\t10.7\n",
    "#17) $125,000 to $149,999\t88\t5.8\n",
    "#18) $150,000 to $174,999\t47\t3.1\n",
    "#19) $175,000 or more\t60\t3.9\n",
    "\n",
    "bins = np.linspace(0,20)\n",
    "quiz.hist(column='income',bins=19)\n",
    "\n",
    "# median income is 13, the biggest number is for 16\n",
    "quiz.income.value_counts()\n",
    "#quiz.income.median()"
   ]
  },
  {
   "cell_type": "code",
   "execution_count": null,
   "metadata": {},
   "outputs": [],
   "source": [
    "# lower income, lower test scores\n",
    "quiz.groupby('income').score.mean()"
   ]
  },
  {
   "cell_type": "code",
   "execution_count": null,
   "metadata": {},
   "outputs": [],
   "source": [
    "bins = np.linspace(0,4)\n",
    "quiz.hist(column='education',bins=4)\n",
    "\n",
    "#most at 4,median is 3\n",
    "quiz.education.value_counts()\n",
    "#quiz.education.median()"
   ]
  },
  {
   "cell_type": "code",
   "execution_count": null,
   "metadata": {},
   "outputs": [],
   "source": [
    "#lower education lower quiz\n",
    "quiz.groupby('education').score.median()"
   ]
  },
  {
   "cell_type": "code",
   "execution_count": null,
   "metadata": {},
   "outputs": [],
   "source": [
    "#predominantly white\n",
    "bins = np.linspace(0,20)\n",
    "quiz.hist(column='ethnicity',bins=5)\n",
    "\n",
    "#most at 1,median is 1\n",
    "quiz.ethnicity.value_counts()\n",
    "#quiz.ethnicity.median()"
   ]
  },
  {
   "cell_type": "code",
   "execution_count": null,
   "metadata": {},
   "outputs": [],
   "source": [
    "#group total score by race\n",
    "white = pd.DataFrame(quiz.loc[quiz.ethnicity==1, 'score'])\n",
    "poc = pd.DataFrame(quiz.loc[quiz.gender>1, 'score'])# women tended to score worse on the test\n",
    "g_w = white.score.value_counts().rename_axis('unique_values').to_frame('white')\n",
    "g_p = poc.score.value_counts().rename_axis('unique_values').to_frame('poc')\n",
    "race =  pd.concat([g_w, g_p], axis=1)\n",
    "race"
   ]
  },
  {
   "cell_type": "code",
   "execution_count": null,
   "metadata": {},
   "outputs": [],
   "source": [
    "#similar distribution but lower frequency, so whites aren't necessarily better\n",
    "sns.distplot(white['score'], kde=False, bins=13,  label='white')\n",
    "sns.distplot(poc['score'],  kde=False, bins=13, label='poc')\n",
    "plt.legend(prop={'size': 12})\n",
    "plt.title('Scores by Ethnicity')\n",
    "plt.xlabel('Quiz Scores')\n",
    "plt.xlim(0,100)\n",
    "plt.ylabel('Frequency')"
   ]
  },
  {
   "cell_type": "code",
   "execution_count": null,
   "metadata": {},
   "outputs": [],
   "source": []
  },
  {
   "cell_type": "code",
   "execution_count": null,
   "metadata": {},
   "outputs": [],
   "source": [
    "march.head()"
   ]
  },
  {
   "cell_type": "code",
   "execution_count": null,
   "metadata": {},
   "outputs": [],
   "source": []
  },
  {
   "cell_type": "code",
   "execution_count": null,
   "metadata": {},
   "outputs": [],
   "source": []
  },
  {
   "cell_type": "code",
   "execution_count": null,
   "metadata": {},
   "outputs": [],
   "source": []
  }
 ],
 "metadata": {
  "kernelspec": {
   "display_name": "Python 3",
   "language": "python",
   "name": "python3"
  },
  "language_info": {
   "codemirror_mode": {
    "name": "ipython",
    "version": 3
   },
   "file_extension": ".py",
   "mimetype": "text/x-python",
   "name": "python",
   "nbconvert_exporter": "python",
   "pygments_lexer": "ipython3",
   "version": "3.7.3"
  }
 },
 "nbformat": 4,
 "nbformat_minor": 2
}
